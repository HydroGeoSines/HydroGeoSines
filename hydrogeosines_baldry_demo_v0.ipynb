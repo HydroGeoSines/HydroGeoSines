{
 "cells": [
  {
   "cell_type": "markdown",
   "metadata": {},
   "source": [
    "# HydroGeoSines\n",
    "\n",
    "Signal In the Noise Exploration Software (sines) for hydrogeological datasets - based on Python 3+"
   ]
  },
  {
   "cell_type": "code",
   "execution_count": 1,
   "metadata": {},
   "outputs": [],
   "source": [
    "%matplotlib inline\n",
    "import matplotlib.pyplot as plt\n",
    "import numpy as np\n",
    "import pandas as pd"
   ]
  },
  {
   "cell_type": "markdown",
   "metadata": {},
   "source": [
    "\n",
    "\n",
    "## Code demonstration\n",
    "\n",
    "First, we import the sines package and create a new instance of a sines object."
   ]
  },
  {
   "cell_type": "code",
   "execution_count": 2,
   "metadata": {},
   "outputs": [],
   "source": [
    "\n",
    "\n",
    "import hydrogeosines as hgs"
   ]
  },
  {
   "cell_type": "markdown",
   "metadata": {},
   "source": [
    "Next, we create a test fiel site object including geoposition data (required to handle Earth tide calculation)."
   ]
  },
  {
   "cell_type": "code",
   "execution_count": 3,
   "metadata": {},
   "outputs": [],
   "source": [
    "hgs = hgs.site('TEST', geoloc=[141.762065, -31.065781, 160])"
   ]
  },
  {
   "cell_type": "markdown",
   "metadata": {},
   "source": [
    "Then we load data from CSV ..."
   ]
  },
  {
   "cell_type": "code",
   "execution_count": 4,
   "metadata": {},
   "outputs": [
    {
     "name": "stdout",
     "output_type": "stream",
     "text": [
      "                              {BP}         {ET}   FG822-1  FG822-2   Smith\n",
      "datetime                                                                  \n",
      "2014-10-21 00:00:00+10:00  10.1623   -55.224997  144.3231   85.635  85.525\n",
      "2014-10-21 00:15:00+10:00  10.1670  -182.712166  144.3220   85.634  85.525\n",
      "2014-10-21 00:30:00+10:00  10.1698  -310.550853  144.3215   85.634  85.524\n",
      "2014-10-21 00:45:00+10:00  10.1733  -436.742818  144.3211   85.633  85.523\n",
      "2014-10-21 01:00:00+10:00  10.1764  -559.304444  144.3209   85.633  85.521\n",
      "...                            ...          ...       ...      ...     ...\n",
      "2015-02-02 02:45:00+10:00  10.1727 -1176.845798  144.0499   85.635  85.585\n",
      "2015-02-02 03:00:00+10:00  10.1746 -1262.948775  144.0503   85.634  85.586\n",
      "2015-02-02 03:15:00+10:00  10.1750 -1336.033772  144.0493   85.634  85.585\n",
      "2015-02-02 03:30:00+10:00  10.1750 -1395.047294  144.0503   85.635  85.586\n",
      "2015-02-02 03:45:00+10:00  10.1755 -1439.133596  144.0496   85.634  85.587\n",
      "\n",
      "[10000 rows x 5 columns]\n"
     ]
    }
   ],
   "source": [
    "fg_data = hgs.data.import_csv('test_data/fowlers_gap/acworth_short.csv', dt_fmt='%d/%m/%Y %H:%M')\n",
    "print(fg_data)"
   ]
  },
  {
   "cell_type": "markdown",
   "metadata": {},
   "source": [
    "Next, we correct groundwater heads"
   ]
  },
  {
   "cell_type": "code",
   "execution_count": 5,
   "metadata": {},
   "outputs": [
    {
     "name": "stdout",
     "output_type": "stream",
     "text": [
      "                               Smith\n",
      "datetime                            \n",
      "2014-10-21 00:00:00+10:00  85.495258\n",
      "2014-10-21 00:15:00+10:00  85.496092\n",
      "2014-10-21 00:30:00+10:00  85.495644\n",
      "2014-10-21 00:45:00+10:00  85.495064\n",
      "2014-10-21 01:00:00+10:00  85.493871\n",
      "...                              ...\n",
      "2015-02-02 02:45:00+10:00  85.557101\n",
      "2015-02-02 03:00:00+10:00  85.558518\n",
      "2015-02-02 03:15:00+10:00  85.557764\n",
      "2015-02-02 03:30:00+10:00  85.558645\n",
      "2015-02-02 03:45:00+10:00  85.559398\n",
      "\n",
      "[10000 rows x 1 columns]\n"
     ]
    }
   ],
   "source": [
    "heads = hgs.data.correct_heads(locs=['Smith'])\n",
    "print(heads)"
   ]
  },
  {
   "cell_type": "markdown",
   "metadata": {},
   "source": [
    "Finally, we calculate BE using Acworth et al. (2016)"
   ]
  },
  {
   "cell_type": "code",
   "execution_count": 6,
   "metadata": {},
   "outputs": [
    {
     "name": "stdout",
     "output_type": "stream",
     "text": [
      "Number of values in y that could not be detrended is 5 (including NaN)\n",
      "{'FG822-1': 0.506, 'Smith': 0.814, 'FG822-2': 0.565}\n"
     ]
    }
   ],
   "source": [
    "be = hgs.data.calc_BE(method='acworth')\n",
    "print(be)"
   ]
  }
 ],
 "metadata": {
  "anaconda-cloud": {},
  "kernelspec": {
   "display_name": "Python 3",
   "language": "python",
   "name": "python3"
  },
  "language_info": {
   "codemirror_mode": {
    "name": "ipython",
    "version": 3
   },
   "file_extension": ".py",
   "mimetype": "text/x-python",
   "name": "python",
   "nbconvert_exporter": "python",
   "pygments_lexer": "ipython3",
   "version": "3.7.3"
  }
 },
 "nbformat": 4,
 "nbformat_minor": 2
}
