{
 "cells": [
  {
   "cell_type": "markdown",
   "id": "charged-administrator",
   "metadata": {},
   "source": [
    "# HydroGeoSines\n",
    "\n",
    "## How to correct groundwater heads from Earth tides and atmospheric pressure influences\n"
   ]
  },
  {
   "cell_type": "markdown",
   "id": "boxed-andrews",
   "metadata": {},
   "source": [
    "### Import HGS\n",
    "*Note*: Currently, the HydroGeoSines is not fully implemented as an installable package. Instead. we have to move to the parent directory, to import the package."
   ]
  },
  {
   "cell_type": "code",
   "execution_count": 1,
   "id": "excellent-degree",
   "metadata": {},
   "outputs": [
    {
     "name": "stdout",
     "output_type": "stream",
     "text": [
      "Current Working Directory:  /media/daniel/SharedData/Workspaces/GitHub/HydroGeoSines\n"
     ]
    }
   ],
   "source": [
    "import os\n",
    "os.chdir(\"../../\")\n",
    "print(\"Current Working Directory: \", os.getcwd())"
   ]
  },
  {
   "cell_type": "code",
   "execution_count": 2,
   "id": "eb4f4e03",
   "metadata": {},
   "outputs": [],
   "source": [
    "# Load the HGS package\n",
    "import hydrogeosines as hgs\n",
    "import numpy as np\n",
    "import pandas as pd\n",
    "import matplotlib.pyplot as plt"
   ]
  },
  {
   "cell_type": "markdown",
   "id": "519b53f9",
   "metadata": {},
   "source": [
    "### Import a dataset\n",
    "\n",
    "*Note*: This example dataset is based on [Rau et. al. (2020)](https://doi.org/10.5194/hess-24-6033-2020):\n",
    "\n",
    "Import data from a CSV file."
   ]
  },
  {
   "cell_type": "code",
   "execution_count": 3,
   "id": "2ae39f3e",
   "metadata": {
    "scrolled": false
   },
   "outputs": [
    {
     "name": "stdout",
     "output_type": "stream",
     "text": [
      "Datetime was 'naive'. Localized and converted to UTC!\n",
      "A new time series was added ...\n",
      "No duplicate entries were found.\n"
     ]
    }
   ],
   "source": [
    "death_valley = hgs.Site('Death Valley', geoloc=[-116.471360, 36.408130, 688])\n",
    "\n",
    "death_valley.import_csv('tests/data/death_valley/death_valley.csv',\n",
    "                        input_category=[\"GW\",\"BP\",\"ET\"], \n",
    "                        unit=[\"m\",\"m\",\"nstr\"],\n",
    "                        utc_offset=0, \n",
    "                        how=\"add\", check_duplicates=True)"
   ]
  },
  {
   "cell_type": "markdown",
   "id": "44bd0ac5",
   "metadata": {},
   "source": [
    "Just for fun, we invoke [PyGTide](https://github.com/hydrogeoscience/pygtide) to add theoretical Earth tide strains to the dataset:"
   ]
  },
  {
   "cell_type": "code",
   "execution_count": 4,
   "id": "31b6c496",
   "metadata": {
    "scrolled": false
   },
   "outputs": [
    {
     "name": "stdout",
     "output_type": "stream",
     "text": [
      "Adding Earth tides using the inbuilt PyGTide package.\n",
      "Warning: This may take some time ...\n",
      "ETERNA PREDICT v3.4 (10/02/2013) is calculating, please wait ...\n",
      "Finished after 3.430 s\n",
      "Earth tide time series were calculated and added ...\n"
     ]
    }
   ],
   "source": [
    "death_valley.add_ET(et_comp='nstr')"
   ]
  },
  {
   "cell_type": "markdown",
   "id": "1aa3844c",
   "metadata": {},
   "source": [
    "### Correcting groundwater hydraulic heads"
   ]
  },
  {
   "cell_type": "markdown",
   "id": "2e68b38d",
   "metadata": {},
   "source": [
    "Now we can correct the groundwater hydraulic heads:"
   ]
  },
  {
   "cell_type": "code",
   "execution_count": 5,
   "id": "573691c4",
   "metadata": {
    "scrolled": true
   },
   "outputs": [
    {
     "name": "stdout",
     "output_type": "stream",
     "text": [
      "-------------------------------------------------\n",
      "Method: GW_correct\n",
      "There were no gaps in the data after resampling!\n",
      "The groundwater (GW) and  BP data is aligned. There is exactly one BP for every GW entry!\n",
      "The groundwater (GW) and  BP data is aligned. There is exactly one BP for every GW entry!\n",
      "-------------------------------------------------\n",
      "> Correcting GW for location: BLM-1\n",
      ">> Applying regression deconvolution ...\n",
      ">> Reference: Method by Rasmussen and Crawford (1997) [https://doi.org/10.1111/j.1745-6584.1997.tb00111.x]\n",
      ">> Using harmonic least-squares to estimate Earth tide influences ...\n"
     ]
    }
   ],
   "source": [
    "corrected = hgs.Processing(death_valley).GW_correct(lag_h=8, et_method='hals')"
   ]
  },
  {
   "cell_type": "markdown",
   "id": "a2c74741",
   "metadata": {},
   "source": [
    "### Exporting and visualising the results\n",
    "\n",
    "The corrected heads are in the results object:"
   ]
  },
  {
   "cell_type": "code",
   "execution_count": 6,
   "id": "3b5defc9",
   "metadata": {
    "scrolled": true
   },
   "outputs": [
    {
     "name": "stdout",
     "output_type": "stream",
     "text": [
      "-------------------------------------------------\n",
      "Exporting location: BLM-1\n",
      ">> Writing file(s) to folder: export\n"
     ]
    },
    {
     "data": {
      "text/plain": [
       "{('BLM-1',\n",
       "  'all'): (                          Datetime [UTC+0.00]  Baro [m] Earth tides [nstr]  \\\n",
       "  datetime                                                                     \n",
       "  2009-06-25 22:00:00+00:00 2009-06-25 22:00:00  9.494786                NaN   \n",
       "  2009-06-25 22:15:00+00:00 2009-06-25 22:15:00  9.493441                NaN   \n",
       "  2009-06-25 22:30:00+00:00 2009-06-25 22:30:00  9.490473                NaN   \n",
       "  2009-06-25 22:45:00+00:00 2009-06-25 22:45:00  9.489662                NaN   \n",
       "  2009-06-25 23:00:00+00:00 2009-06-25 23:00:00  9.490956                NaN   \n",
       "  ...                                       ...       ...                ...   \n",
       "  2009-12-16 15:30:00+00:00 2009-12-16 15:30:00  9.655353                NaN   \n",
       "  2009-12-16 15:45:00+00:00 2009-12-16 15:45:00  9.656525                NaN   \n",
       "  2009-12-16 16:00:00+00:00 2009-12-16 16:00:00  9.656757                NaN   \n",
       "  2009-12-16 16:15:00+00:00 2009-12-16 16:15:00  9.657581                NaN   \n",
       "  2009-12-16 16:30:00+00:00 2009-12-16 16:30:00  9.653110                NaN   \n",
       "  \n",
       "                             BLM-1 [m]  BLM-1_corrected [m]  \n",
       "  datetime                                                   \n",
       "  2009-06-25 22:00:00+00:00   5.091699               5.1363  \n",
       "  2009-06-25 22:15:00+00:00   5.091264               5.1349  \n",
       "  2009-06-25 22:30:00+00:00   5.097049               5.1383  \n",
       "  2009-06-25 22:45:00+00:00   5.097067               5.1357  \n",
       "  2009-06-25 23:00:00+00:00   5.098759               5.1351  \n",
       "  ...                              ...                  ...  \n",
       "  2009-12-16 15:30:00+00:00   5.121938               5.1487  \n",
       "  2009-12-16 15:45:00+00:00   5.120765               5.1485  \n",
       "  2009-12-16 16:00:00+00:00   5.119533               5.1485  \n",
       "  2009-12-16 16:15:00+00:00   5.116925               5.1476  \n",
       "  2009-12-16 16:30:00+00:00   5.112594               5.1435  \n",
       "  \n",
       "  [16683 rows x 5 columns],     Lag [hours]   IRC [-]   BRF [-]\n",
       "  0          0.00  0.335481  0.335481\n",
       "  1          0.25  0.118792  0.454273\n",
       "  2          0.50  0.041845  0.496118\n",
       "  3          0.75  0.021307  0.517425\n",
       "  4          1.00  0.007473  0.524898\n",
       "  5          1.25  0.003764  0.528662\n",
       "  6          1.50  0.008422  0.537084\n",
       "  7          1.75 -0.000601  0.536483\n",
       "  8          2.00  0.010079  0.546561\n",
       "  9          2.25  0.005210  0.551771\n",
       "  10         2.50  0.008785  0.560556\n",
       "  11         2.75  0.000985  0.561541\n",
       "  12         3.00  0.003019  0.564560\n",
       "  13         3.25  0.005118  0.569678\n",
       "  14         3.50  0.005789  0.575467\n",
       "  15         3.75  0.003525  0.578992\n",
       "  16         4.00  0.001606  0.580597\n",
       "  17         4.25 -0.013042  0.567555\n",
       "  18         4.50  0.008565  0.576120\n",
       "  19         4.75 -0.001463  0.574657\n",
       "  20         5.00  0.001744  0.576401\n",
       "  21         5.25  0.008227  0.584628\n",
       "  22         5.50 -0.001745  0.582883\n",
       "  23         5.75  0.001515  0.584398\n",
       "  24         6.00 -0.011446  0.572951\n",
       "  25         6.25  0.002345  0.575296\n",
       "  26         6.50  0.008274  0.583571\n",
       "  27         6.75  0.001225  0.584796\n",
       "  28         7.00  0.005078  0.589874\n",
       "  29         7.25  0.011477  0.601350\n",
       "  30         7.50 -0.002279  0.599072\n",
       "  31         7.75 -0.003912  0.595159\n",
       "  32         8.00 -0.006162  0.588997,    Frequency [cpd] Components  Amplitude [nstr]  Phase [rad]\n",
       "  0         0.893244         Q1          0.021105     2.927101\n",
       "  1         0.929536         O1          0.122035     2.480170\n",
       "  2         0.966446         M1          0.008664     0.645655\n",
       "  3         0.997262         P1          0.049020     0.758323\n",
       "  4         1.000000         S1          0.011890    -2.185810\n",
       "  5         1.002738         K1          0.146400     0.696071\n",
       "  6         1.895982         N2          0.060629     2.185509\n",
       "  7         1.932274         M2          0.318180     1.711548\n",
       "  8         2.000000         S2          0.162576     0.271090\n",
       "  9         2.005476         K2          0.053306     3.129559)}"
      ]
     },
     "execution_count": 6,
     "metadata": {},
     "output_type": "execute_result"
    }
   ],
   "source": [
    "hgs.Output(corrected).export(folder=\"export\")"
   ]
  },
  {
   "cell_type": "markdown",
   "id": "df1e3131",
   "metadata": {},
   "source": [
    "This will write a comma seperated value (csv) file to the subfolder 'export'.\n",
    "\n",
    "The results can also be visualised:"
   ]
  },
  {
   "cell_type": "code",
   "execution_count": 7,
   "id": "1fb7d33d",
   "metadata": {
    "scrolled": true
   },
   "outputs": [
    {
     "name": "stdout",
     "output_type": "stream",
     "text": [
      "-------------------------------------------------\n",
      "Plotting location: BLM-1\n",
      ">> Writing files to folder: export\n"
     ]
    },
    {
     "data": {
      "text/plain": [
       "{('BLM-1', 'all'): (<Figure size 432x288 with 1 Axes>,\n",
       "  <Figure size 432x288 with 2 Axes>)}"
      ]
     },
     "execution_count": 7,
     "metadata": {},
     "output_type": "execute_result"
    },
    {
     "data": {
      "image/png": "[encoded data removed]",
      "text/plain": [
       "<Figure size 432x288 with 1 Axes>"
      ]
     },
     "metadata": {
      "needs_background": "light"
     },
     "output_type": "display_data"
    },
    {
     "data": {
      "image/png": "[encoded data removed]",
      "text/plain": [
       "<Figure size 432x288 with 2 Axes>"
      ]
     },
     "metadata": {
      "needs_background": "light"
     },
     "output_type": "display_data"
    }
   ],
   "source": [
    "hgs.Output(corrected).plot(folder=\"export\")"
   ]
  }
 ],
 "metadata": {
  "kernelspec": {
   "display_name": "Python 3 (ipykernel)",
   "language": "python",
   "name": "python3"
  },
  "language_info": {
   "codemirror_mode": {
    "name": "ipython",
    "version": 3
   },
   "file_extension": ".py",
   "mimetype": "text/x-python",
   "name": "python",
   "nbconvert_exporter": "python",
   "pygments_lexer": "ipython3",
   "version": "3.8.10"
  },
  "toc": {
   "base_numbering": 1,
   "nav_menu": {},
   "number_sections": false,
   "sideBar": true,
   "skip_h1_title": false,
   "title_cell": "Table of Contents",
   "title_sidebar": "Contents",
   "toc_cell": false,
   "toc_position": {
    "height": "calc(100% - 180px)",
    "left": "10px",
    "top": "150px",
    "width": "245.2px"
   },
   "toc_section_display": true,
   "toc_window_display": true
  }
 },
 "nbformat": 4,
 "nbformat_minor": 5
}
