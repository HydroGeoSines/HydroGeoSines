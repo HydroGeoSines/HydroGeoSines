{
 "cells": [
  {
   "cell_type": "markdown",
   "id": "charged-administrator",
   "metadata": {},
   "source": [
    "# HydroGeoSines\n",
    "\n",
    "## How to estimate hydraulic conductivity (K), specific storage (Ss) and barometric efficiency (BE)\n"
   ]
  },
  {
   "cell_type": "markdown",
   "id": "boxed-andrews",
   "metadata": {},
   "source": [
    "### Import HGS\n",
    "Note: Currently, the HydroGeoSines is not fully implemented as an installable package. Instead. we have to move to the parent directory, to import the package."
   ]
  },
  {
   "cell_type": "code",
   "execution_count": 1,
   "id": "excellent-degree",
   "metadata": {},
   "outputs": [
    {
     "name": "stdout",
     "output_type": "stream",
     "text": [
      "Current Working Directory:  D:\\WORK\\GitHub\\HydroGeoSines\n"
     ]
    }
   ],
   "source": [
    "import os\n",
    "os.chdir(\"../../\")\n",
    "print(\"Current Working Directory: \" , os.getcwd())\n",
    "\n",
    "# Load the HGS package\n",
    "import hydrogeosines as hgs"
   ]
  },
  {
   "cell_type": "code",
   "execution_count": 2,
   "id": "reverse-bacon",
   "metadata": {},
   "outputs": [],
   "source": [
    "# and other packages used in this illustration\n",
    "import numpy as np\n",
    "import pandas as pd\n",
    "import matplotlib.pyplot as plt"
   ]
  },
  {
   "cell_type": "markdown",
   "id": "519b53f9",
   "metadata": {},
   "source": [
    "## Import a dataset\n",
    "\n",
    "Import data from CSV. This example dataset is based on [Rau et. al. (2020)](https://doi.org/10.5194/hess-24-6033-2020):"
   ]
  },
  {
   "cell_type": "code",
   "execution_count": 3,
   "id": "2ae39f3e",
   "metadata": {
    "scrolled": false
   },
   "outputs": [
    {
     "name": "stdout",
     "output_type": "stream",
     "text": [
      "Datetime was 'naive'. Localized and converted to UTC!\n",
      "A new time series was added ...\n",
      "No dublicates found ...\n"
     ]
    }
   ],
   "source": [
    "death_valley = hgs.Site('death valley', geoloc=[-116.471360, 36.408130, 688])\n",
    "death_valley.import_csv('tests/data/death_valley/death_valley.csv',\n",
    "                        input_category=[\"GW\",\"BP\",\"ET\"], utc_offset=0, unit=[\"m\",\"m\",\"nstr\"],\n",
    "                        how=\"add\", check_dublicates=True)\n",
    "\n",
    "process_dv = hgs.Processing(death_valley)"
   ]
  },
  {
   "cell_type": "markdown",
   "id": "2e68b38d",
   "metadata": {},
   "source": [
    "### Estimate K and Ss\n",
    "\n",
    "Now we can estimate K and Ss from the groundwater response to Earth tides:"
   ]
  },
  {
   "cell_type": "code",
   "execution_count": 4,
   "id": "573691c4",
   "metadata": {
    "scrolled": true
   },
   "outputs": [
    {
     "name": "stdout",
     "output_type": "stream",
     "text": [
      "-------------------------------------------------\n",
      "Method: k_ss_estimate\n",
      "-------------------------------------------------\n",
      "Method: hals\n",
      "Calculating HALS for location: BLM-1\n",
      "Location: BLM-1, Part: all\n",
      "Amplitude strain response (A_str): 55,336 [m/nstr]\n",
      "Phase shift (dPhi): -0.020 [rad], -1.15 [°]\n",
      "Reference: Method by Hsie et al. (1987) [doi:10.1029/WR023i010p01824]\n",
      "Hydraulic conductivity (K): 3.93e-05 m/s\n",
      "Specific storage (Ss): 1.80e-05 1/m\n",
      "Amplitude ratio (Ar): 0.998 [-]\n",
      "Residuals: Ar: 1.11e-16, dPhi: -3.47e-18\n"
     ]
    }
   ],
   "source": [
    "hyd_prop  = process_dv.K_Ss_estimate(loc='BLM-1', scr_len=10, case_rad=0.127, scr_rad=0.127, update=True)"
   ]
  },
  {
   "cell_type": "markdown",
   "id": "a2c74741",
   "metadata": {},
   "source": [
    "### Quantify BE\n",
    "\n",
    "Finally, we can calculate BE by disentangling the groundwater response to Earth and atmospheric tides:"
   ]
  },
  {
   "cell_type": "code",
   "execution_count": 5,
   "id": "80f8df6a",
   "metadata": {},
   "outputs": [
    {
     "name": "stdout",
     "output_type": "stream",
     "text": [
      "-------------------------------------------------\n",
      "Method: be_freq\n",
      "-------------------------------------------------\n",
      "Location: BLM-1, Part: all\n",
      "Reference: Method by Rau et al. (2020) [doi:10.5194/hess-24-6033-2020]\n",
      "Barometric efficiency (BE): 0.620 [-]\n"
     ]
    }
   ],
   "source": [
    "be_freq_2  = process_dv.BE_freq(method=\"rau\", freq_method='hals')"
   ]
  }
 ],
 "metadata": {
  "kernelspec": {
   "display_name": "Python 3",
   "language": "python",
   "name": "python3"
  },
  "language_info": {
   "codemirror_mode": {
    "name": "ipython",
    "version": 3
   },
   "file_extension": ".py",
   "mimetype": "text/x-python",
   "name": "python",
   "nbconvert_exporter": "python",
   "pygments_lexer": "ipython3",
   "version": "3.7.10"
  },
  "toc": {
   "base_numbering": 1,
   "nav_menu": {},
   "number_sections": false,
   "sideBar": true,
   "skip_h1_title": false,
   "title_cell": "Table of Contents",
   "title_sidebar": "Contents",
   "toc_cell": false,
   "toc_position": {},
   "toc_section_display": true,
   "toc_window_display": true
  }
 },
 "nbformat": 4,
 "nbformat_minor": 5
}
